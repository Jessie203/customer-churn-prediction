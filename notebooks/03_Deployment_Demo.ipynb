{
 "cells": [
  {
   "cell_type": "markdown",
   "id": "b1db5990-2693-418c-b56c-027195002250",
   "metadata": {},
   "source": [
    "# Stage 3: Deployment Demo"
   ]
  },
  {
   "cell_type": "markdown",
   "id": "c3261bb4-5555-4680-9195-e33519d15b1a",
   "metadata": {},
   "source": [
    "## Deployment Overview\n",
    "\n",
    "In this notebook, we demonstrate how to deploy our final churn prediction model to new, unseen customer data.  \n",
    "This replicates a real-world scenario where the business can identify customers at risk of churn and take proactive retention measures."
   ]
  },
  {
   "cell_type": "code",
   "execution_count": 33,
   "id": "513b3c5d-b5a7-4243-aab1-b9c19207aa4a",
   "metadata": {},
   "outputs": [],
   "source": [
    "# Load necessary libraries\n",
    "import pandas as pd\n",
    "import numpy as np\n",
    "import joblib"
   ]
  },
  {
   "cell_type": "markdown",
   "id": "ad11548b-56e8-4039-8f38-a51136c02fa9",
   "metadata": {},
   "source": [
    "## Load Final Model, Scaler, and Columns\n",
    "\n",
    "We load our saved Logistic Regression model, scaler for numerical features, and the list of feature columns to ensure that incoming data is pre-processed consistently."
   ]
  },
  {
   "cell_type": "code",
   "execution_count": 34,
   "id": "86408572-8701-4f55-ad1a-df01be08d6f8",
   "metadata": {},
   "outputs": [],
   "source": [
    "# Paths (update to your local Desktop path if needed)\n",
    "model_path = '/Users/Cathaml/Desktop/final_lr_model.pkl'\n",
    "scaler_path = '/Users/Cathaml/Desktop/final_scaler.pkl'\n",
    "columns_path = '/Users/Cathaml/Desktop/feature_columns.pkl'\n",
    "\n",
    "# Load model, scaler, and columns\n",
    "lr = joblib.load(model_path)\n",
    "scaler = joblib.load(scaler_path)\n",
    "feature_columns = joblib.load(columns_path)"
   ]
  },
  {
   "cell_type": "markdown",
   "id": "1e2e50b4-60b5-44d5-a911-7a17ebb42980",
   "metadata": {},
   "source": [
    "## Create Example New Customer Data\n",
    "\n",
    "We create a small sample dataset representing new customers.  \n",
    "In a real production scenario, this data would come from your CRM or operational database."
   ]
  },
  {
   "cell_type": "code",
   "execution_count": 35,
   "id": "f457281b-2cb1-40f1-a5a1-bd1d31742ef3",
   "metadata": {},
   "outputs": [],
   "source": [
    "# Create new customer dataframe (example raw input)\n",
    "new_customers_raw = pd.DataFrame({\n",
    "    'gender': ['Female', 'Male', 'Male'],\n",
    "    'SeniorCitizen': [0, 1, 0],\n",
    "    'Partner': ['Yes', 'No', 'No'],\n",
    "    'Dependents': ['No', 'No', 'Yes'],\n",
    "    'tenure': [1, 12, 24],\n",
    "    'PhoneService': ['Yes', 'Yes', 'No'],\n",
    "    'MultipleLines': ['No', 'Yes', 'No phone service'],\n",
    "    'InternetService': ['DSL', 'Fibre optic', 'DSL'],\n",
    "    'OnlineSecurity': ['No', 'Yes', 'No'],\n",
    "    'OnlineBackup': ['Yes', 'No', 'Yes'],\n",
    "    'DeviceProtection': ['No', 'Yes', 'No'],\n",
    "    'TechSupport': ['No', 'No', 'Yes'],\n",
    "    'StreamingTV': ['No', 'Yes', 'No'],\n",
    "    'StreamingMovies': ['No', 'Yes', 'No'],\n",
    "    'Contract': ['Month-to-month', 'Two year', 'One year'],\n",
    "    'PaperlessBilling': ['Yes', 'Yes', 'No'],\n",
    "    'PaymentMethod': ['Electronic check', 'Mailed check', 'Bank transfer (automatic)'],\n",
    "    'MonthlyCharges': [29.85, 70.70, 56.95],\n",
    "    'TotalCharges': [29.85, 151.65, 1889.50]\n",
    "})"
   ]
  },
  {
   "cell_type": "markdown",
   "id": "b3aec553-1236-4aa3-9a74-9e23c0bccc29",
   "metadata": {},
   "source": [
    "## Pre-process New Customer Data\n",
    "\n",
    "We encode binary columns, perform one-hot encoding, align columns to match the model, and scale numerical features using the saved scaler."
   ]
  },
  {
   "cell_type": "code",
   "execution_count": 36,
   "id": "38907c57-1ed5-4661-894d-2927a48880c2",
   "metadata": {},
   "outputs": [],
   "source": [
    "# Map binary columns\n",
    "binary_cols = ['Partner', 'Dependents', 'PhoneService', 'PaperlessBilling']\n",
    "for col in binary_cols:\n",
    "    new_customers_raw[col] = new_customers_raw[col].map({'Yes': 1, 'No': 0})\n",
    "\n",
    "# One-hot encode\n",
    "new_customers_encoded = pd.get_dummies(new_customers_raw, drop_first=True)\n",
    "\n",
    "# Align columns exactly\n",
    "new_customers_aligned = new_customers_encoded.reindex(columns=feature_columns, fill_value=0)\n",
    "\n",
    "# Scale numerical columns\n",
    "num_cols = ['tenure', 'MonthlyCharges', 'TotalCharges']\n",
    "new_customers_aligned[num_cols] = scaler.transform(new_customers_aligned[num_cols])"
   ]
  },
  {
   "cell_type": "markdown",
   "id": "9b4b8922-488d-48ce-a4f9-b3631a6f2b75",
   "metadata": {},
   "source": [
    "## Make Predictions\n",
    "\n",
    "We use the loaded Logistic Regression model to generate churn predictions and churn probabilities for each new customer."
   ]
  },
  {
   "cell_type": "code",
   "execution_count": 37,
   "id": "b471f9ff-a29f-48ea-acf9-884e45a6fd86",
   "metadata": {},
   "outputs": [
    {
     "data": {
      "text/html": [
       "<div>\n",
       "<style scoped>\n",
       "    .dataframe tbody tr th:only-of-type {\n",
       "        vertical-align: middle;\n",
       "    }\n",
       "\n",
       "    .dataframe tbody tr th {\n",
       "        vertical-align: top;\n",
       "    }\n",
       "\n",
       "    .dataframe thead th {\n",
       "        text-align: right;\n",
       "    }\n",
       "</style>\n",
       "<table border=\"1\" class=\"dataframe\">\n",
       "  <thead>\n",
       "    <tr style=\"text-align: right;\">\n",
       "      <th></th>\n",
       "      <th>PredictedChurn</th>\n",
       "      <th>ChurnProbability</th>\n",
       "    </tr>\n",
       "  </thead>\n",
       "  <tbody>\n",
       "    <tr>\n",
       "      <th>0</th>\n",
       "      <td>1</td>\n",
       "      <td>0.54</td>\n",
       "    </tr>\n",
       "    <tr>\n",
       "      <th>1</th>\n",
       "      <td>0</td>\n",
       "      <td>0.17</td>\n",
       "    </tr>\n",
       "    <tr>\n",
       "      <th>2</th>\n",
       "      <td>0</td>\n",
       "      <td>0.07</td>\n",
       "    </tr>\n",
       "  </tbody>\n",
       "</table>\n",
       "</div>"
      ],
      "text/plain": [
       "   PredictedChurn  ChurnProbability\n",
       "0               1              0.54\n",
       "1               0              0.17\n",
       "2               0              0.07"
      ]
     },
     "execution_count": 37,
     "metadata": {},
     "output_type": "execute_result"
    }
   ],
   "source": [
    "# Make predictions\n",
    "predictions = lr.predict(new_customers_aligned)\n",
    "pred_probs = lr.predict_proba(new_customers_aligned)[:, 1]\n",
    "\n",
    "# Add results to original dataframe\n",
    "new_customers_raw['PredictedChurn'] = predictions\n",
    "new_customers_raw['ChurnProbability'] = np.round(pred_probs, 2)\n",
    "\n",
    "# Show results\n",
    "new_customers_raw[['PredictedChurn', 'ChurnProbability']]"
   ]
  },
  {
   "cell_type": "markdown",
   "id": "a123a65c-da6c-4937-bd66-800a93447fde",
   "metadata": {},
   "source": [
    "## 💬 Analysis: Deployment Results\n",
    "\n",
    "In this final deployment demo, we successfully use the pre-trained Logistic Regression model to make churn predictions for new customers.\n",
    "\n",
    "- **PredictedChurn** indicates whether the customer is expected to churn (`1`) or stay (`0`).\n",
    "- **ChurnProbability** provides an interpretable probability score between 0 and 1.\n",
    "- By combining both outputs, teams can prioritise retention efforts and design targeted interventions for high-risk customers.\n",
    "\n",
    "---\n",
    "\n",
    "This notebook demonstrates a complete, production-ready end-to-end pipeline, from pre-processing to scoring, ready to be integrated into a live system or business workflow."
   ]
  }
 ],
 "metadata": {
  "kernelspec": {
   "display_name": "Python 3 (ipykernel)",
   "language": "python",
   "name": "python3"
  },
  "language_info": {
   "codemirror_mode": {
    "name": "ipython",
    "version": 3
   },
   "file_extension": ".py",
   "mimetype": "text/x-python",
   "name": "python",
   "nbconvert_exporter": "python",
   "pygments_lexer": "ipython3",
   "version": "3.9.12"
  }
 },
 "nbformat": 4,
 "nbformat_minor": 5
}
